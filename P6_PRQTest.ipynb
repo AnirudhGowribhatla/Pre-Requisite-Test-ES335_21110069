{
 "cells": [
  {
   "cell_type": "code",
   "execution_count": 1,
   "id": "3cb889f7-bd80-434c-8674-6471ff35fbf5",
   "metadata": {},
   "outputs": [
    {
     "data": {
      "text/plain": [
       "[2*x*y + y**3*cos(x), x**2 + 3*y**2*sin(x)]"
      ]
     },
     "execution_count": 1,
     "metadata": {},
     "output_type": "execute_result"
    }
   ],
   "source": [
    "import sympy as sp\n",
    "\n",
    "x, y = sp.symbols('x y')\n",
    "\n",
    "f = (x**2)*y + (y**3)*(sp.sin(x))\n",
    "\n",
    "gradient = [sp.diff(f, x), sp.diff(f, y)]\n",
    "\n",
    "gradient"
   ]
  }
 ],
 "metadata": {
  "kernelspec": {
   "display_name": "Python 3 (ipykernel)",
   "language": "python",
   "name": "python3"
  },
  "language_info": {
   "codemirror_mode": {
    "name": "ipython",
    "version": 3
   },
   "file_extension": ".py",
   "mimetype": "text/x-python",
   "name": "python",
   "nbconvert_exporter": "python",
   "pygments_lexer": "ipython3",
   "version": "3.11.3"
  }
 },
 "nbformat": 4,
 "nbformat_minor": 5
}
