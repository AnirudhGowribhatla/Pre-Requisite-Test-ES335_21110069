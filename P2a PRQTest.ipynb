{
 "cells": [
  {
   "cell_type": "markdown",
   "id": "b2615fe6-8d00-4505-80e2-c54cfc6f5017",
   "metadata": {},
   "source": [
    "A is a 3x2 matrix and B is a 2x3 matrix"
   ]
  },
  {
   "cell_type": "code",
   "execution_count": 32,
   "id": "a4af2377-f915-4c37-b89a-7de6bface835",
   "metadata": {},
   "outputs": [
    {
     "name": "stdout",
     "output_type": "stream",
     "text": [
      "[[55, 65, 49, 5], [57, 68, 72, 12], [90, 107, 111, 21]]\n",
      "[[114, 160, 60, 27], [74, 97, 73, 14], [119, 157, 112, 23]]\n"
     ]
    }
   ],
   "source": [
    "#each row is given as an array\n",
    "\n",
    "P = [] # product matrix\n",
    "X = [[1, 7, 3],[3, 5, 6],[6, 8, 9]]\n",
    "Y = [[1, 1, 1, 2], [6, 7, 3, 0],[4, 5, 9, 1]]\n",
    "\n",
    "A = [[12, 7, 3],\n",
    "    [4, 5, 6],\n",
    "    [7, 8, 9]]\n",
    " \n",
    "# take a 3x4 matrix\n",
    "B = [[5, 8, 1, 2],\n",
    "    [6, 7, 3, 0],\n",
    "    [4, 5, 9, 1]]\n",
    "\n",
    "def multi(x,y):\n",
    "    m = len(y[0])\n",
    "    n = len(x)\n",
    "    c = 0 #index counter\n",
    "    l = 0 #index counter\n",
    "    P = [] #product matrix\n",
    "    if (len(x[0]) != len(y)):\n",
    "        print('multiplication not possible')\n",
    "    else :\n",
    "        for i in x:\n",
    "            q = [] # represents every row of P matrix\n",
    "            c = 0 #index counter\n",
    "            for c in range(m):\n",
    "                a = 0 #one element of P matrix\n",
    "                l = 0 #index counter\n",
    "                for j in y:\n",
    "                    a = a + i[l]*j[c]\n",
    "                    l = l+1\n",
    "                q.append(a)\n",
    "            P.append(q)\n",
    "    return P\n",
    "\n",
    "print(multi(X,Y))  \n",
    "print(multi(A,B))\n"
   ]
  }
 ],
 "metadata": {
  "kernelspec": {
   "display_name": "Python 3 (ipykernel)",
   "language": "python",
   "name": "python3"
  },
  "language_info": {
   "codemirror_mode": {
    "name": "ipython",
    "version": 3
   },
   "file_extension": ".py",
   "mimetype": "text/x-python",
   "name": "python",
   "nbconvert_exporter": "python",
   "pygments_lexer": "ipython3",
   "version": "3.11.3"
  }
 },
 "nbformat": 4,
 "nbformat_minor": 5
}
