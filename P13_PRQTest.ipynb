{
 "cells": [
  {
   "cell_type": "code",
   "execution_count": null,
   "id": "1b3f586d-ff7a-49a9-bbad-fc0cc0527335",
   "metadata": {},
   "outputs": [],
   "source": [
    "import numpy as np\n",
    "\n",
    "def argmin(x):\n",
    "    c = x[0]\n",
    "    for i in x:\n",
    "        if (c>i):\n",
    "            c = i\n",
    "    for i in range(len(x)):\n",
    "        if (c == x[i]):\n",
    "            return i\n",
    "\n",
    "x = np.array([0,1111,22,32,73,121,30,-1,243,300,101])\n",
    "\n",
    "my_array = []\n",
    "a=int(input(\"Size of array:\"))\n",
    "for i in range(a):\n",
    "    x= float(input(\"Elements:\"))\n",
    "    my_array.append(x)\n",
    "\n",
    "print(argmin(my_array))\n",
    "print(np.argmin(my_array))"
   ]
  },
  {
   "cell_type": "code",
   "execution_count": null,
   "id": "8f8805f0-8eba-4fd9-a9ad-c413191951ad",
   "metadata": {},
   "outputs": [],
   "source": []
  }
 ],
 "metadata": {
  "kernelspec": {
   "display_name": "Python 3 (ipykernel)",
   "language": "python",
   "name": "python3"
  },
  "language_info": {
   "codemirror_mode": {
    "name": "ipython",
    "version": 3
   },
   "file_extension": ".py",
   "mimetype": "text/x-python",
   "name": "python",
   "nbconvert_exporter": "python",
   "pygments_lexer": "ipython3",
   "version": "3.11.3"
  }
 },
 "nbformat": 4,
 "nbformat_minor": 5
}
