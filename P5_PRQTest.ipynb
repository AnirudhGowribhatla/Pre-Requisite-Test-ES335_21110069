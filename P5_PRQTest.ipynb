{
 "cells": [
  {
   "cell_type": "code",
   "execution_count": 29,
   "id": "630229cd-1de3-4f88-976c-4cf0e2ec1905",
   "metadata": {},
   "outputs": [
    {
     "name": "stdout",
     "output_type": "stream",
     "text": [
      "Explicit Gradient Function:  [0.1464618  0.09364072]\n",
      "JAX Gradient Function:  [0.1464618  0.09364072]\n",
      "\n",
      "Explicit Gradient Function:  [-17.123838  32.022003]\n",
      "JAX Gradient Function:  [-17.123838  32.022003]\n",
      "\n",
      "Explicit Gradient Function:  [15.633791   6.7703066]\n",
      "JAX Gradient Function:  [15.633791   6.7703066]\n",
      "\n"
     ]
    }
   ],
   "source": [
    "import jax\n",
    "import jax.numpy as jnp\n",
    "import math as mt\n",
    "from jax import grad\n",
    "\n",
    "\n",
    "\n",
    "def f(a):\n",
    "    x = a[0]\n",
    "    y = a[1]\n",
    "    p = (x**2)*y + (y**3)*(jnp.sin(x))\n",
    "    return p\n",
    "\n",
    "\n",
    "# Our explicit gradient function\n",
    "def g_f(x,y):\n",
    "    p = jnp.array([2*x*y + (y**3)*mt.cos(x), x**2 + 3*(y**2)*mt.sin(x)])\n",
    "    return p\n",
    "\n",
    "# JAX's grad operator\n",
    "grad_f = grad(f)\n",
    "\n",
    "# three different input\n",
    "input = jnp.array([[0.2, 0.3], [2.4, 3.6], [4.4, 2.1]])\n",
    "\n",
    "for x in input:\n",
    "    print(\"Explicit Gradient Function: \", g_f(x[0],x[1]))\n",
    "    print(\"JAX Gradient Function: \", grad_f(x))\n",
    "    print(\"\")\n"
   ]
  },
  {
   "cell_type": "code",
   "execution_count": null,
   "id": "08ff8285-457f-4e75-b869-13aa3813d950",
   "metadata": {},
   "outputs": [],
   "source": []
  }
 ],
 "metadata": {
  "kernelspec": {
   "display_name": "Python 3 (ipykernel)",
   "language": "python",
   "name": "python3"
  },
  "language_info": {
   "codemirror_mode": {
    "name": "ipython",
    "version": 3
   },
   "file_extension": ".py",
   "mimetype": "text/x-python",
   "name": "python",
   "nbconvert_exporter": "python",
   "pygments_lexer": "ipython3",
   "version": "3.11.3"
  }
 },
 "nbformat": 4,
 "nbformat_minor": 5
}
