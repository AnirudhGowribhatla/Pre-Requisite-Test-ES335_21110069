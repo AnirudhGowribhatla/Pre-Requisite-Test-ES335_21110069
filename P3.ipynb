{
 "cells": [
  {
   "cell_type": "markdown",
   "id": "467aabd0-2782-4563-afa3-735bbf4cd910",
   "metadata": {},
   "source": [
    "The time complexity with the approach as mentioned before is O(n^2). This is because to find the median of the array we require the number at the position (n+1/2) and for that we require the same number of passes of the array. Since for each pass of the array it takes time complexity of O(n). THe overall time complexity is O(n*(n+1/2)) = O(n^2). "
   ]
  }
 ],
 "metadata": {
  "kernelspec": {
   "display_name": "Python 3 (ipykernel)",
   "language": "python",
   "name": "python3"
  },
  "language_info": {
   "codemirror_mode": {
    "name": "ipython",
    "version": 3
   },
   "file_extension": ".py",
   "mimetype": "text/x-python",
   "name": "python",
   "nbconvert_exporter": "python",
   "pygments_lexer": "ipython3",
   "version": "3.11.3"
  }
 },
 "nbformat": 4,
 "nbformat_minor": 5
}
