{
 "cells": [
  {
   "cell_type": "code",
   "execution_count": 11,
   "id": "ca42748e-46bb-4bdc-9ffb-b1407d966ee6",
   "metadata": {},
   "outputs": [
    {
     "name": "stdout",
     "output_type": "stream",
     "text": [
      "My matrix multiplication time: 0.32684826850891113 seconds\n",
      "NumPy matrix multiplication time: 0.0009677410125732422 seconds\n"
     ]
    }
   ],
   "source": [
    "import numpy as np\n",
    "import time\n",
    "\n",
    "\n",
    "\n",
    "def multi(x,y):\n",
    "    m = len(y[0])\n",
    "    n = len(x)\n",
    "    c = 0 #index counter\n",
    "    l = 0 #index counter\n",
    "    P = [] #product matrix\n",
    "    if (len(x[0]) != len(y)):\n",
    "        print('multiplication not possible')\n",
    "    else :\n",
    "        for i in x:\n",
    "            q = [] # represents every row of P matrix\n",
    "            c = 0 #index counter\n",
    "            for c in range(m):\n",
    "                a = 0 #one element of P matrix\n",
    "                l = 0 #index counter\n",
    "                for j in y:\n",
    "                    a = a + i[l]*j[c]\n",
    "                    l = l+1\n",
    "                q.append(a)\n",
    "            P.append(q)\n",
    "\n",
    "    return P\n",
    "\n",
    "# Generate random matrices for multiplication\n",
    "size = 100  # Adjust the size of matrices as needed\n",
    "matrix_a = np.random.rand(size, size)\n",
    "matrix_b = np.random.rand(size, size)\n",
    "\n",
    "# Measure execution time of custom matrix multiplication\n",
    "start_time_custom = time.time()\n",
    "result_custom = multi(matrix_a, matrix_b)\n",
    "end_time_custom = time.time()\n",
    "elapsed_time_custom = end_time_custom - start_time_custom\n",
    "print(f\"My matrix multiplication time: {elapsed_time_custom} seconds\")\n",
    "\n",
    "# Measure execution time of NumPy matrix multiplication\n",
    "start_time_numpy = time.time()\n",
    "result_numpy = np.dot(matrix_a, matrix_b)\n",
    "end_time_numpy = time.time()\n",
    "elapsed_time_numpy = end_time_numpy - start_time_numpy\n",
    "print(f\"NumPy matrix multiplication time: {elapsed_time_numpy} seconds\")\n"
   ]
  },
  {
   "cell_type": "markdown",
   "id": "da6e15b3-0db4-4e81-be39-0d78369878c3",
   "metadata": {},
   "source": [
    "In the above code the numpy matrix multiplication is faster as compared to my own code. The possible reasons are:\n",
    "1. Numpy can conduct parallel multiplication operations at a time\n",
    "2. Numpy's matrix multiplication algorithm is unique, effecient and is based on size and structure of the matrices"
   ]
  },
  {
   "cell_type": "code",
   "execution_count": null,
   "id": "6d42b34b-e8bb-478c-a432-f8aee5c6acf9",
   "metadata": {},
   "outputs": [],
   "source": []
  }
 ],
 "metadata": {
  "kernelspec": {
   "display_name": "Python 3 (ipykernel)",
   "language": "python",
   "name": "python3"
  },
  "language_info": {
   "codemirror_mode": {
    "name": "ipython",
    "version": 3
   },
   "file_extension": ".py",
   "mimetype": "text/x-python",
   "name": "python",
   "nbconvert_exporter": "python",
   "pygments_lexer": "ipython3",
   "version": "3.11.3"
  }
 },
 "nbformat": 4,
 "nbformat_minor": 5
}
