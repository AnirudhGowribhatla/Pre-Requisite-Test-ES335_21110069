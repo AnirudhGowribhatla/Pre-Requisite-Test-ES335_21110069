{
 "cells": [
  {
   "cell_type": "markdown",
   "id": "fb457283-cc08-4abd-8049-6c1a00b0613f",
   "metadata": {},
   "source": [
    "2*x*y + (y^3)*cos(x)+ x^2+3*(y^2)*sin(x)"
   ]
  }
 ],
 "metadata": {
  "kernelspec": {
   "display_name": "Python 3 (ipykernel)",
   "language": "python",
   "name": "python3"
  },
  "language_info": {
   "codemirror_mode": {
    "name": "ipython",
    "version": 3
   },
   "file_extension": ".py",
   "mimetype": "text/x-python",
   "name": "python",
   "nbconvert_exporter": "python",
   "pygments_lexer": "ipython3",
   "version": "3.11.3"
  }
 },
 "nbformat": 4,
 "nbformat_minor": 5
}
